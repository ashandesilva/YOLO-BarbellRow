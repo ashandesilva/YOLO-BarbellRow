version https://git-lfs.github.com/spec/v1
oid sha256:363d45b4a54e9f95bc2b2f55943c6f04e0a63dd34c2fa1f13899584aba2c473b
size 1811124
