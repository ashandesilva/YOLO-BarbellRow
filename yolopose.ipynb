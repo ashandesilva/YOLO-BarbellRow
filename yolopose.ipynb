{
 "cells": [
  {
   "cell_type": "code",
   "execution_count": 1,
   "metadata": {},
   "outputs": [
    {
     "name": "stdout",
     "output_type": "stream",
     "text": [
      "Requirement already satisfied: ultralytics in c:\\users\\ashan\\documents\\iit\\5th yr\\my fyp\\feb 2025\\yolo-barbellrow\\.venv\\lib\\site-packages (8.3.73)\n",
      "Requirement already satisfied: numpy<=2.1.1,>=1.23.0 in c:\\users\\ashan\\documents\\iit\\5th yr\\my fyp\\feb 2025\\yolo-barbellrow\\.venv\\lib\\site-packages (from ultralytics) (2.1.1)\n",
      "Requirement already satisfied: matplotlib>=3.3.0 in c:\\users\\ashan\\documents\\iit\\5th yr\\my fyp\\feb 2025\\yolo-barbellrow\\.venv\\lib\\site-packages (from ultralytics) (3.10.0)\n",
      "Requirement already satisfied: opencv-python>=4.6.0 in c:\\users\\ashan\\documents\\iit\\5th yr\\my fyp\\feb 2025\\yolo-barbellrow\\.venv\\lib\\site-packages (from ultralytics) (4.11.0.86)\n",
      "Requirement already satisfied: pillow>=7.1.2 in c:\\users\\ashan\\documents\\iit\\5th yr\\my fyp\\feb 2025\\yolo-barbellrow\\.venv\\lib\\site-packages (from ultralytics) (11.1.0)\n",
      "Requirement already satisfied: pyyaml>=5.3.1 in c:\\users\\ashan\\documents\\iit\\5th yr\\my fyp\\feb 2025\\yolo-barbellrow\\.venv\\lib\\site-packages (from ultralytics) (6.0.2)\n",
      "Requirement already satisfied: requests>=2.23.0 in c:\\users\\ashan\\documents\\iit\\5th yr\\my fyp\\feb 2025\\yolo-barbellrow\\.venv\\lib\\site-packages (from ultralytics) (2.32.3)\n",
      "Requirement already satisfied: scipy>=1.4.1 in c:\\users\\ashan\\documents\\iit\\5th yr\\my fyp\\feb 2025\\yolo-barbellrow\\.venv\\lib\\site-packages (from ultralytics) (1.15.1)\n",
      "Requirement already satisfied: torch>=1.8.0 in c:\\users\\ashan\\documents\\iit\\5th yr\\my fyp\\feb 2025\\yolo-barbellrow\\.venv\\lib\\site-packages (from ultralytics) (2.6.0)\n",
      "Requirement already satisfied: torchvision>=0.9.0 in c:\\users\\ashan\\documents\\iit\\5th yr\\my fyp\\feb 2025\\yolo-barbellrow\\.venv\\lib\\site-packages (from ultralytics) (0.21.0)\n",
      "Requirement already satisfied: tqdm>=4.64.0 in c:\\users\\ashan\\documents\\iit\\5th yr\\my fyp\\feb 2025\\yolo-barbellrow\\.venv\\lib\\site-packages (from ultralytics) (4.67.1)\n",
      "Requirement already satisfied: psutil in c:\\users\\ashan\\documents\\iit\\5th yr\\my fyp\\feb 2025\\yolo-barbellrow\\.venv\\lib\\site-packages (from ultralytics) (6.1.1)\n",
      "Requirement already satisfied: py-cpuinfo in c:\\users\\ashan\\documents\\iit\\5th yr\\my fyp\\feb 2025\\yolo-barbellrow\\.venv\\lib\\site-packages (from ultralytics) (9.0.0)\n",
      "Requirement already satisfied: pandas>=1.1.4 in c:\\users\\ashan\\documents\\iit\\5th yr\\my fyp\\feb 2025\\yolo-barbellrow\\.venv\\lib\\site-packages (from ultralytics) (2.2.3)\n",
      "Requirement already satisfied: seaborn>=0.11.0 in c:\\users\\ashan\\documents\\iit\\5th yr\\my fyp\\feb 2025\\yolo-barbellrow\\.venv\\lib\\site-packages (from ultralytics) (0.13.2)\n",
      "Requirement already satisfied: ultralytics-thop>=2.0.0 in c:\\users\\ashan\\documents\\iit\\5th yr\\my fyp\\feb 2025\\yolo-barbellrow\\.venv\\lib\\site-packages (from ultralytics) (2.0.14)\n",
      "Requirement already satisfied: contourpy>=1.0.1 in c:\\users\\ashan\\documents\\iit\\5th yr\\my fyp\\feb 2025\\yolo-barbellrow\\.venv\\lib\\site-packages (from matplotlib>=3.3.0->ultralytics) (1.3.1)\n",
      "Requirement already satisfied: cycler>=0.10 in c:\\users\\ashan\\documents\\iit\\5th yr\\my fyp\\feb 2025\\yolo-barbellrow\\.venv\\lib\\site-packages (from matplotlib>=3.3.0->ultralytics) (0.12.1)\n",
      "Requirement already satisfied: fonttools>=4.22.0 in c:\\users\\ashan\\documents\\iit\\5th yr\\my fyp\\feb 2025\\yolo-barbellrow\\.venv\\lib\\site-packages (from matplotlib>=3.3.0->ultralytics) (4.56.0)\n",
      "Requirement already satisfied: kiwisolver>=1.3.1 in c:\\users\\ashan\\documents\\iit\\5th yr\\my fyp\\feb 2025\\yolo-barbellrow\\.venv\\lib\\site-packages (from matplotlib>=3.3.0->ultralytics) (1.4.8)\n",
      "Requirement already satisfied: packaging>=20.0 in c:\\users\\ashan\\documents\\iit\\5th yr\\my fyp\\feb 2025\\yolo-barbellrow\\.venv\\lib\\site-packages (from matplotlib>=3.3.0->ultralytics) (24.2)\n",
      "Requirement already satisfied: pyparsing>=2.3.1 in c:\\users\\ashan\\documents\\iit\\5th yr\\my fyp\\feb 2025\\yolo-barbellrow\\.venv\\lib\\site-packages (from matplotlib>=3.3.0->ultralytics) (3.2.1)\n",
      "Requirement already satisfied: python-dateutil>=2.7 in c:\\users\\ashan\\documents\\iit\\5th yr\\my fyp\\feb 2025\\yolo-barbellrow\\.venv\\lib\\site-packages (from matplotlib>=3.3.0->ultralytics) (2.9.0.post0)\n",
      "Requirement already satisfied: pytz>=2020.1 in c:\\users\\ashan\\documents\\iit\\5th yr\\my fyp\\feb 2025\\yolo-barbellrow\\.venv\\lib\\site-packages (from pandas>=1.1.4->ultralytics) (2025.1)\n",
      "Requirement already satisfied: tzdata>=2022.7 in c:\\users\\ashan\\documents\\iit\\5th yr\\my fyp\\feb 2025\\yolo-barbellrow\\.venv\\lib\\site-packages (from pandas>=1.1.4->ultralytics) (2025.1)\n",
      "Requirement already satisfied: charset-normalizer<4,>=2 in c:\\users\\ashan\\documents\\iit\\5th yr\\my fyp\\feb 2025\\yolo-barbellrow\\.venv\\lib\\site-packages (from requests>=2.23.0->ultralytics) (3.4.1)\n",
      "Requirement already satisfied: idna<4,>=2.5 in c:\\users\\ashan\\documents\\iit\\5th yr\\my fyp\\feb 2025\\yolo-barbellrow\\.venv\\lib\\site-packages (from requests>=2.23.0->ultralytics) (3.10)\n",
      "Requirement already satisfied: urllib3<3,>=1.21.1 in c:\\users\\ashan\\documents\\iit\\5th yr\\my fyp\\feb 2025\\yolo-barbellrow\\.venv\\lib\\site-packages (from requests>=2.23.0->ultralytics) (2.3.0)\n",
      "Requirement already satisfied: certifi>=2017.4.17 in c:\\users\\ashan\\documents\\iit\\5th yr\\my fyp\\feb 2025\\yolo-barbellrow\\.venv\\lib\\site-packages (from requests>=2.23.0->ultralytics) (2025.1.31)\n",
      "Requirement already satisfied: filelock in c:\\users\\ashan\\documents\\iit\\5th yr\\my fyp\\feb 2025\\yolo-barbellrow\\.venv\\lib\\site-packages (from torch>=1.8.0->ultralytics) (3.17.0)\n",
      "Requirement already satisfied: typing-extensions>=4.10.0 in c:\\users\\ashan\\documents\\iit\\5th yr\\my fyp\\feb 2025\\yolo-barbellrow\\.venv\\lib\\site-packages (from torch>=1.8.0->ultralytics) (4.12.2)\n",
      "Requirement already satisfied: networkx in c:\\users\\ashan\\documents\\iit\\5th yr\\my fyp\\feb 2025\\yolo-barbellrow\\.venv\\lib\\site-packages (from torch>=1.8.0->ultralytics) (3.4.2)\n",
      "Requirement already satisfied: jinja2 in c:\\users\\ashan\\documents\\iit\\5th yr\\my fyp\\feb 2025\\yolo-barbellrow\\.venv\\lib\\site-packages (from torch>=1.8.0->ultralytics) (3.1.5)\n",
      "Requirement already satisfied: fsspec in c:\\users\\ashan\\documents\\iit\\5th yr\\my fyp\\feb 2025\\yolo-barbellrow\\.venv\\lib\\site-packages (from torch>=1.8.0->ultralytics) (2025.2.0)\n",
      "Requirement already satisfied: setuptools in c:\\users\\ashan\\documents\\iit\\5th yr\\my fyp\\feb 2025\\yolo-barbellrow\\.venv\\lib\\site-packages (from torch>=1.8.0->ultralytics) (75.8.0)\n",
      "Requirement already satisfied: sympy==1.13.1 in c:\\users\\ashan\\documents\\iit\\5th yr\\my fyp\\feb 2025\\yolo-barbellrow\\.venv\\lib\\site-packages (from torch>=1.8.0->ultralytics) (1.13.1)\n",
      "Requirement already satisfied: mpmath<1.4,>=1.1.0 in c:\\users\\ashan\\documents\\iit\\5th yr\\my fyp\\feb 2025\\yolo-barbellrow\\.venv\\lib\\site-packages (from sympy==1.13.1->torch>=1.8.0->ultralytics) (1.3.0)\n",
      "Requirement already satisfied: colorama in c:\\users\\ashan\\documents\\iit\\5th yr\\my fyp\\feb 2025\\yolo-barbellrow\\.venv\\lib\\site-packages (from tqdm>=4.64.0->ultralytics) (0.4.6)\n",
      "Requirement already satisfied: six>=1.5 in c:\\users\\ashan\\documents\\iit\\5th yr\\my fyp\\feb 2025\\yolo-barbellrow\\.venv\\lib\\site-packages (from python-dateutil>=2.7->matplotlib>=3.3.0->ultralytics) (1.17.0)\n",
      "Requirement already satisfied: MarkupSafe>=2.0 in c:\\users\\ashan\\documents\\iit\\5th yr\\my fyp\\feb 2025\\yolo-barbellrow\\.venv\\lib\\site-packages (from jinja2->torch>=1.8.0->ultralytics) (3.0.2)\n",
      "Note: you may need to restart the kernel to use updated packages.\n"
     ]
    }
   ],
   "source": [
    "\n",
    "%pip install --upgrade ultralytics\n",
    "\n",
    "from ultralytics import YOLO"
   ]
  },
  {
   "cell_type": "code",
   "execution_count": 2,
   "metadata": {},
   "outputs": [
    {
     "name": "stdout",
     "output_type": "stream",
     "text": [
      "Downloading https://github.com/ultralytics/assets/releases/download/v8.3.0/yolov8n.pt to 'yolov8n.pt'...\n"
     ]
    },
    {
     "name": "stderr",
     "output_type": "stream",
     "text": [
      "100%|██████████| 6.25M/6.25M [00:27<00:00, 236kB/s]\n"
     ]
    }
   ],
   "source": [
    "model = YOLO(\"yolov8n.pt\")"
   ]
  },
  {
   "cell_type": "code",
   "execution_count": null,
   "metadata": {},
   "outputs": [],
   "source": []
  }
 ],
 "metadata": {
  "kernelspec": {
   "display_name": ".venv",
   "language": "python",
   "name": "python3"
  },
  "language_info": {
   "codemirror_mode": {
    "name": "ipython",
    "version": 3
   },
   "file_extension": ".py",
   "mimetype": "text/x-python",
   "name": "python",
   "nbconvert_exporter": "python",
   "pygments_lexer": "ipython3",
   "version": "3.12.6"
  }
 },
 "nbformat": 4,
 "nbformat_minor": 2
}
