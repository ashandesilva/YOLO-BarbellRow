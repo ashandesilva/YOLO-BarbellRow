version https://git-lfs.github.com/spec/v1
oid sha256:1a9c8a60c8c002a29a2484e6328a0273970566c0ee1167aee33a3e9d0bf1e2fc
size 16325
