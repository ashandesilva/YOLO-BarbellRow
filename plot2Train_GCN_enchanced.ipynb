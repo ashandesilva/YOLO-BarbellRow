version https://git-lfs.github.com/spec/v1
oid sha256:675701f9d427ce55f4afb015648b94ec37d254c821c43ecb7cbdc7250296b6b5
size 9626
