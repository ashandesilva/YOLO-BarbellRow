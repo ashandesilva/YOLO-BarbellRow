{
 "cells": [
  {
   "cell_type": "code",
   "execution_count": 1,
   "metadata": {},
   "outputs": [
    {
     "name": "stdout",
     "output_type": "stream",
     "text": [
      "Testing basic calculation:\n",
      "Test passed!\n"
     ]
    }
   ],
   "source": [
    "# Simple test to check if a basic calculation is working correctly in a Jupyter Notebook\n",
    "print(\"Testing basic calculation:\")\n",
    "result = 2 + 2 \n",
    "assert result == 4, \"Calculation failed: 2 + 2 should equal 4\" \n",
    "print(\"Test passed!\")"
   ]
  }
 ],
 "metadata": {
  "kernelspec": {
   "display_name": ".venv",
   "language": "python",
   "name": "python3"
  },
  "language_info": {
   "codemirror_mode": {
    "name": "ipython",
    "version": 3
   },
   "file_extension": ".py",
   "mimetype": "text/x-python",
   "name": "python",
   "nbconvert_exporter": "python",
   "pygments_lexer": "ipython3",
   "version": "3.12.6"
  }
 },
 "nbformat": 4,
 "nbformat_minor": 2
}
