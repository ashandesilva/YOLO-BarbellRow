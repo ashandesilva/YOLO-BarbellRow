{
 "cells": [
  {
   "cell_type": "markdown",
   "metadata": {},
   "source": [
    "# Pre steps Step 0"
   ]
  },
  {
   "cell_type": "code",
   "execution_count": 1,
   "metadata": {},
   "outputs": [],
   "source": [
    "import os\n",
    "import shutil\n",
    "import json"
   ]
  },
  {
   "cell_type": "code",
   "execution_count": 2,
   "metadata": {},
   "outputs": [],
   "source": [
    "# Define paths\n",
    "image_folder = \"images\"  # Main image folder\n",
    "output_folder = \"filtered_images\"  # Where new train/val/test folders will be created"
   ]
  },
  {
   "cell_type": "code",
   "execution_count": 3,
   "metadata": {},
   "outputs": [],
   "source": [
    "# Ensure output directories exist\n",
    "os.makedirs(f\"{output_folder}/train\", exist_ok=True)\n",
    "os.makedirs(f\"{output_folder}/val\", exist_ok=True)\n",
    "os.makedirs(f\"{output_folder}/test\", exist_ok=True)"
   ]
  },
  {
   "cell_type": "code",
   "execution_count": 4,
   "metadata": {},
   "outputs": [],
   "source": [
    "# Load JSON files\n",
    "def load_json(filepath):\n",
    "    with open(filepath, \"r\") as f:\n",
    "        return json.load(f)\n",
    "\n",
    "train_ids = load_json(\"Splits/train_ids.json\")\n",
    "val_ids = load_json(\"Splits/val_ids.json\")\n",
    "test_ids = load_json(\"Splits/test_ids.json\")"
   ]
  },
  {
   "cell_type": "code",
   "execution_count": 5,
   "metadata": {},
   "outputs": [],
   "source": [
    "# Function to move files\n",
    "def move_images(image_ids, subset):\n",
    "    for img_id in image_ids:\n",
    "        filename = f\"{img_id}.jpg\"  # Modify if images have a different extension (e.g., .png)\n",
    "        src_path = os.path.join(image_folder, filename)\n",
    "        dst_path = os.path.join(output_folder, subset, filename)\n",
    "\n",
    "        if os.path.exists(src_path):\n",
    "            shutil.copy(src_path, dst_path)\n",
    "        else:\n",
    "            print(f\"Warning: {filename} not found!\")"
   ]
  },
  {
   "cell_type": "code",
   "execution_count": 6,
   "metadata": {},
   "outputs": [
    {
     "name": "stdout",
     "output_type": "stream",
     "text": [
      "Images successfully organized into train, val, and test folders!\n"
     ]
    }
   ],
   "source": [
    "# Move images\n",
    "move_images(train_ids, \"train\")\n",
    "move_images(val_ids, \"val\")\n",
    "move_images(test_ids, \"test\")\n",
    "\n",
    "print(\"Images successfully organized into train, val, and test folders!\")"
   ]
  }
 ],
 "metadata": {
  "kernelspec": {
   "display_name": ".venv",
   "language": "python",
   "name": "python3"
  },
  "language_info": {
   "codemirror_mode": {
    "name": "ipython",
    "version": 3
   },
   "file_extension": ".py",
   "mimetype": "text/x-python",
   "name": "python",
   "nbconvert_exporter": "python",
   "pygments_lexer": "ipython3",
   "version": "3.12.6"
  }
 },
 "nbformat": 4,
 "nbformat_minor": 2
}
