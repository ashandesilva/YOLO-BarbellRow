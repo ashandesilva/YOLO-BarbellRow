version https://git-lfs.github.com/spec/v1
oid sha256:f85c07b0bb5d4a3da7bb716e5aed6220fff4291ea4f20944981e2516b5b0e05b
size 3094
